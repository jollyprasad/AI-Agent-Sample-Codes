{
  "nbformat": 4,
  "nbformat_minor": 0,
  "metadata": {
    "colab": {
      "provenance": []
    },
    "kernelspec": {
      "name": "python3",
      "display_name": "Python 3"
    },
    "language_info": {
      "name": "python"
    }
  },
  "cells": [
    {
      "cell_type": "markdown",
      "source": [
        "# The below program uses AI Agents from langchain framework, google Gemini model and SERPAPI. If the response is not latest from llm then it uses the tool to get the latest information"
      ],
      "metadata": {
        "id": "mpYoP9vJOfEl"
      }
    },
    {
      "cell_type": "code",
      "source": [
        "# Clean installation: force correct versions to avoid conflicts\n",
        "!pip install -q google-generativeai google-ai-generativelanguage\n",
        "!pip install -q langchain_community\n",
        "!pip install -q langchain_google_genai\n",
        "!pip install -q google-search-results\n"
      ],
      "metadata": {
        "id": "la4zMSYbyuhn"
      },
      "execution_count": 8,
      "outputs": []
    },
    {
      "cell_type": "code",
      "source": [
        "# Imports for required packages\n",
        "import os\n",
        "from langchain.agents import load_tools, initialize_agent\n",
        "from langchain_google_genai import ChatGoogleGenerativeAI\n",
        "from google.colab import userdata\n",
        "from google.colab import userdata\n",
        "\n",
        "# Set environment variables\n",
        "os.environ[\"GOOGLE_API_KEY\"] = userdata.get(\"GEMINI_API_KEY\")\n",
        "os.environ[\"SERPAPI_API_KEY\"] = userdata.get('SERPAPI_API_KEY')"
      ],
      "metadata": {
        "id": "iO1y0UIvkwDj"
      },
      "execution_count": 9,
      "outputs": []
    },
    {
      "cell_type": "code",
      "source": [
        "# Set up the model to be used\n",
        "MODEL_ID = \"gemini-2.0-flash\""
      ],
      "metadata": {
        "id": "DPD8brXdk7IT"
      },
      "execution_count": 10,
      "outputs": []
    },
    {
      "cell_type": "code",
      "source": [
        "# Initialize Gemini 1.5 Pro (latest compatible with LangChain)\n",
        "llm = ChatGoogleGenerativeAI(model=\"gemini-2.0-flash\", temperature=0)"
      ],
      "metadata": {
        "id": "PLx1vHY1z4X_"
      },
      "execution_count": 11,
      "outputs": []
    },
    {
      "cell_type": "code",
      "source": [
        "# Load tools (SerpAPI for search)\n",
        "tools = load_tools([\"serpapi\"])"
      ],
      "metadata": {
        "id": "lq-_YjEqz5v6"
      },
      "execution_count": 12,
      "outputs": []
    },
    {
      "cell_type": "markdown",
      "source": [
        "# This below code snippet is initializing an AI agent using the initialize_agent function. Here’s what each part does:\n",
        "\n",
        "tools: This represents a list of tools or capabilities that the agent can use when performing tasks.\n",
        "\n",
        "llm: This stands for the language model being used, which provides the agent with reasoning and response capabilities.\n",
        "\n",
        "agent=\"zero-shot-react-description\": This specifies the type of agent. The \"zero-shot-react-description\" agent follows the ReAct (Reasoning + Acting) framework, which enables it to reason through tasks and take actions without prior examples (zero-shot learning).\n",
        "\n",
        "verbose=True: This means that the agent will provide detailed output logs of its thought process, which is useful for debugging and understanding its reasoning.\n",
        "\n",
        "Overall, this setup is creating a conversational AI agent that can dynamically respond to queries using a language model while utilizing tools to enhance its capabilities. Would you like to dive deeper into how this works?\n",
        "\n"
      ],
      "metadata": {
        "id": "gt_9GRP1Ym8L"
      }
    },
    {
      "cell_type": "code",
      "source": [
        "# Initialize agent\n",
        "agent = initialize_agent(tools, llm, agent=\"zero-shot-react-description\", verbose=True)"
      ],
      "metadata": {
        "id": "xkzYOJ06z7QW"
      },
      "execution_count": 13,
      "outputs": []
    },
    {
      "cell_type": "code",
      "source": [
        "# Run a query\n",
        "agent.run(\"Who is the president of US\")"
      ],
      "metadata": {
        "id": "BCQmMoRLyv6l",
        "colab": {
          "base_uri": "https://localhost:8080/",
          "height": 333
        },
        "outputId": "dd79810b-fb45-47d8-c0b7-564c6d7b8c67"
      },
      "execution_count": 14,
      "outputs": [
        {
          "output_type": "stream",
          "name": "stdout",
          "text": [
            "\n",
            "\n",
            "\u001b[1m> Entering new AgentExecutor chain...\u001b[0m\n",
            "\u001b[32;1m\u001b[1;3mI need to find out who the current president of the United States is.\n",
            "Action: Search\n",
            "Action Input: \"who is the president of the united states\"\u001b[0m\n",
            "Observation: \u001b[36;1m\u001b[1;3m[{'title': 'LOYALTY DAY AND LAW DAY, U.S.A., 2025', 'link': 'https://www.whitehouse.gov/presidential-actions/2025/05/loyalty-day-and-law-day-u-s-a-2025/', 'source': 'The White House (.gov)', 'source_logo': 'https://serpapi.com/searches/6816ea0fc2a5b11c9db0f0bc/images/af543b71a74fab778ded3e1f9872cc6d1d27d13377238edb693799e5f136c710.png', 'date': '2 days ago', 'thumbnail': 'https://serpapi.com/searches/6816ea0fc2a5b11c9db0f0bc/images/af543b71a74fab77e1b0ea797414cd48ddc5765641f910c4.png'}, {'title': 'The U.S. set the global order after WWII. Trump has other plans', 'link': 'https://www.npr.org/2025/05/01/nx-s1-5369457/truman-trump-foreign-policy', 'source': 'NPR', 'source_logo': 'https://serpapi.com/searches/6816ea0fc2a5b11c9db0f0bc/images/af543b71a74fab77fc25febbaafc893fc3c8cc838869892e5e1463206c82c0f1.png', 'date': '2 days ago', 'thumbnail': 'https://serpapi.com/searches/6816ea0fc2a5b11c9db0f0bc/images/af543b71a74fab7709aacac455a0aab893a7ffbcc15a7fd2.jpeg'}]\u001b[0m\n",
            "Thought:\u001b[32;1m\u001b[1;3mI need to refine my search to get a direct answer.\n",
            "Action: Search\n",
            "Action Input: \"current president of the united states\"\u001b[0m\n",
            "Observation: \u001b[36;1m\u001b[1;3m[' entity_type: related_questions.', 'In all, 45 individuals have served 47 presidencies spanning 60 four-year terms. Donald Trump is the 47th and current president since January 20, 2025.', 'Donald J. Trump. President of the United States · JD Vance. VICE PRESIDENT OF THE UNITED STATES · Melania Trump. First Lady OF THE UNITED STATES · The Cabinet. Of ...', \"Donald J. Trump serves as the 47th President of the United States. He also served as the 45th. Read the President's full biography.\", 'The 47th and current president of the United States is Donald John Trump. He was sworn into office on January 20, 2025.', 'President Donald J. Trump 45th & 47th President of the United States. The Golden Age of America Begins Right Now.', 'Donald J. Trump. 45th & 47th President of the United States. After a landslide election victory in 2024, President Donald J. Trump is returning to the White ...', 'The incumbent president is Donald Trump, who assumed office on January 20, 2025. Since the office was established in 1789, 45 men have served ...', 'President Donald J. Trump is returning to the White House as the 47th president to build upon his previous successes, unleash the American economy.', 'Presidents of the United States of America ; 54, 55. George W. Bush. July 6, 1946. Midland, TX ; 56, 57, Barack Obama, Aug. 4, 1961, Honolulu, HI ...']\u001b[0m\n",
            "Thought:\u001b[32;1m\u001b[1;3mThe current president of the United States is Donald Trump.\n",
            "Final Answer: Donald Trump\n",
            "\u001b[0m\n",
            "\n",
            "\u001b[1m> Finished chain.\u001b[0m\n"
          ]
        },
        {
          "output_type": "execute_result",
          "data": {
            "text/plain": [
              "'Donald Trump'"
            ],
            "application/vnd.google.colaboratory.intrinsic+json": {
              "type": "string"
            }
          },
          "metadata": {},
          "execution_count": 14
        }
      ]
    }
  ]
}